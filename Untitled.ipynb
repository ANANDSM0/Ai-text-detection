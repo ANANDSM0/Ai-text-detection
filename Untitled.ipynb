{
 "cells": [
  {
   "cell_type": "code",
   "execution_count": 1,
   "id": "22ecf270-60d1-4aad-9ca4-8a4df8a3d0e8",
   "metadata": {},
   "outputs": [
    {
     "name": "stdout",
     "output_type": "stream",
     "text": [
      "3.10.11\n"
     ]
    }
   ],
   "source": [
    "import platform\n",
    "print(platform.python_version())"
   ]
  },
  {
   "cell_type": "code",
   "execution_count": 2,
   "id": "9ae9e785",
   "metadata": {},
   "outputs": [
    {
     "name": "stderr",
     "output_type": "stream",
     "text": [
      "D:\\ANACONDA\\envs\\py310\\lib\\site-packages\\h5py\\__init__.py:36: UserWarning: h5py is running against HDF5 1.14.6 when it was built against 1.14.5, this may cause problems\n",
      "  _warn((\"h5py is running against HDF5 {0} when it was built against {1}, \"\n"
     ]
    }
   ],
   "source": [
    "import pandas as pd\n",
    "import numpy as np\n",
    "import seaborn as sns\n",
    "from sklearn.model_selection import train_test_split\n",
    "import tensorflow as tf\n",
    "from tensorflow import keras\n",
    "import tensorflow_hub as hub\n",
    "import matplotlib.pyplot as plt"
   ]
  },
  {
   "cell_type": "code",
   "execution_count": 3,
   "id": "62175b9e",
   "metadata": {},
   "outputs": [
    {
     "name": "stdout",
     "output_type": "stream",
     "text": [
      "2.10.1\n"
     ]
    }
   ],
   "source": [
    "print(tf.__version__)"
   ]
  },
  {
   "cell_type": "code",
   "execution_count": 4,
   "id": "dc7b2844",
   "metadata": {},
   "outputs": [],
   "source": [
    "import tensorflow_text as text  # Registers the ops."
   ]
  },
  {
   "cell_type": "code",
   "execution_count": 2,
   "id": "b2a535db",
   "metadata": {},
   "outputs": [],
   "source": [
    "f1 = pd.read_csv(\"LLM_generated_essay_PaLM.csv\")"
   ]
  },
  {
   "cell_type": "code",
   "execution_count": 3,
   "id": "e26d9552",
   "metadata": {},
   "outputs": [
    {
     "data": {
      "text/html": [
       "<div>\n",
       "<style scoped>\n",
       "    .dataframe tbody tr th:only-of-type {\n",
       "        vertical-align: middle;\n",
       "    }\n",
       "\n",
       "    .dataframe tbody tr th {\n",
       "        vertical-align: top;\n",
       "    }\n",
       "\n",
       "    .dataframe thead th {\n",
       "        text-align: right;\n",
       "    }\n",
       "</style>\n",
       "<table border=\"1\" class=\"dataframe\">\n",
       "  <thead>\n",
       "    <tr style=\"text-align: right;\">\n",
       "      <th></th>\n",
       "      <th>id</th>\n",
       "      <th>prompt_id</th>\n",
       "      <th>text</th>\n",
       "      <th>generated</th>\n",
       "    </tr>\n",
       "  </thead>\n",
       "  <tbody>\n",
       "    <tr>\n",
       "      <th>0</th>\n",
       "      <td>0</td>\n",
       "      <td>0.0</td>\n",
       "      <td>## The Advantages of Limiting Car Usage\\n\\nIn ...</td>\n",
       "      <td>1.0</td>\n",
       "    </tr>\n",
       "    <tr>\n",
       "      <th>1</th>\n",
       "      <td>1</td>\n",
       "      <td>0.0</td>\n",
       "      <td>The United States is a car-dependent nation, w...</td>\n",
       "      <td>1.0</td>\n",
       "    </tr>\n",
       "    <tr>\n",
       "      <th>2</th>\n",
       "      <td>2</td>\n",
       "      <td>0.0</td>\n",
       "      <td>In recent years, there has been a growing move...</td>\n",
       "      <td>1.0</td>\n",
       "    </tr>\n",
       "    <tr>\n",
       "      <th>3</th>\n",
       "      <td>3</td>\n",
       "      <td>0.0</td>\n",
       "      <td>In recent years, there has been a growing move...</td>\n",
       "      <td>1.0</td>\n",
       "    </tr>\n",
       "    <tr>\n",
       "      <th>4</th>\n",
       "      <td>4</td>\n",
       "      <td>0.0</td>\n",
       "      <td>In the past few decades, the United States has...</td>\n",
       "      <td>1.0</td>\n",
       "    </tr>\n",
       "  </tbody>\n",
       "</table>\n",
       "</div>"
      ],
      "text/plain": [
       "   id  prompt_id                                               text  generated\n",
       "0   0        0.0  ## The Advantages of Limiting Car Usage\\n\\nIn ...        1.0\n",
       "1   1        0.0  The United States is a car-dependent nation, w...        1.0\n",
       "2   2        0.0  In recent years, there has been a growing move...        1.0\n",
       "3   3        0.0  In recent years, there has been a growing move...        1.0\n",
       "4   4        0.0  In the past few decades, the United States has...        1.0"
      ]
     },
     "execution_count": 3,
     "metadata": {},
     "output_type": "execute_result"
    }
   ],
   "source": [
    "f1.head()"
   ]
  },
  {
   "cell_type": "code",
   "execution_count": 4,
   "id": "6050fd55",
   "metadata": {},
   "outputs": [],
   "source": [
    "f2 = pd.read_csv(\"Training_Essay_Data.csv\")"
   ]
  },
  {
   "cell_type": "code",
   "execution_count": 6,
   "id": "7b2a5358",
   "metadata": {},
   "outputs": [
    {
     "data": {
      "text/html": [
       "<div>\n",
       "<style scoped>\n",
       "    .dataframe tbody tr th:only-of-type {\n",
       "        vertical-align: middle;\n",
       "    }\n",
       "\n",
       "    .dataframe tbody tr th {\n",
       "        vertical-align: top;\n",
       "    }\n",
       "\n",
       "    .dataframe thead th {\n",
       "        text-align: right;\n",
       "    }\n",
       "</style>\n",
       "<table border=\"1\" class=\"dataframe\">\n",
       "  <thead>\n",
       "    <tr style=\"text-align: right;\">\n",
       "      <th></th>\n",
       "      <th>text</th>\n",
       "      <th>generated</th>\n",
       "    </tr>\n",
       "  </thead>\n",
       "  <tbody>\n",
       "    <tr>\n",
       "      <th>0</th>\n",
       "      <td>Car-free cities have become a subject of incre...</td>\n",
       "      <td>1</td>\n",
       "    </tr>\n",
       "    <tr>\n",
       "      <th>1</th>\n",
       "      <td>Car Free Cities  Car-free cities, a concept ga...</td>\n",
       "      <td>1</td>\n",
       "    </tr>\n",
       "    <tr>\n",
       "      <th>2</th>\n",
       "      <td>A Sustainable Urban Future  Car-free cities ...</td>\n",
       "      <td>1</td>\n",
       "    </tr>\n",
       "    <tr>\n",
       "      <th>3</th>\n",
       "      <td>Pioneering Sustainable Urban Living  In an e...</td>\n",
       "      <td>1</td>\n",
       "    </tr>\n",
       "    <tr>\n",
       "      <th>4</th>\n",
       "      <td>The Path to Sustainable Urban Living  In an ...</td>\n",
       "      <td>1</td>\n",
       "    </tr>\n",
       "  </tbody>\n",
       "</table>\n",
       "</div>"
      ],
      "text/plain": [
       "                                                text  generated\n",
       "0  Car-free cities have become a subject of incre...          1\n",
       "1  Car Free Cities  Car-free cities, a concept ga...          1\n",
       "2    A Sustainable Urban Future  Car-free cities ...          1\n",
       "3    Pioneering Sustainable Urban Living  In an e...          1\n",
       "4    The Path to Sustainable Urban Living  In an ...          1"
      ]
     },
     "execution_count": 6,
     "metadata": {},
     "output_type": "execute_result"
    }
   ],
   "source": [
    "f2.head()"
   ]
  },
  {
   "cell_type": "code",
   "execution_count": 7,
   "id": "fbc0e537",
   "metadata": {},
   "outputs": [],
   "source": [
    "f3 = pd.read_csv(\"ai_generated_train_essays.csv\")"
   ]
  },
  {
   "cell_type": "code",
   "execution_count": 8,
   "id": "f85a6da2",
   "metadata": {},
   "outputs": [
    {
     "data": {
      "text/html": [
       "<div>\n",
       "<style scoped>\n",
       "    .dataframe tbody tr th:only-of-type {\n",
       "        vertical-align: middle;\n",
       "    }\n",
       "\n",
       "    .dataframe tbody tr th {\n",
       "        vertical-align: top;\n",
       "    }\n",
       "\n",
       "    .dataframe thead th {\n",
       "        text-align: right;\n",
       "    }\n",
       "</style>\n",
       "<table border=\"1\" class=\"dataframe\">\n",
       "  <thead>\n",
       "    <tr style=\"text-align: right;\">\n",
       "      <th></th>\n",
       "      <th>id</th>\n",
       "      <th>prompt_id</th>\n",
       "      <th>text</th>\n",
       "      <th>generated</th>\n",
       "    </tr>\n",
       "  </thead>\n",
       "  <tbody>\n",
       "    <tr>\n",
       "      <th>0</th>\n",
       "      <td>d429f032</td>\n",
       "      <td>0</td>\n",
       "      <td>Advantages of Limiting Car Usage \\n\\nLimiting ...</td>\n",
       "      <td>1</td>\n",
       "    </tr>\n",
       "    <tr>\n",
       "      <th>1</th>\n",
       "      <td>1ce279be</td>\n",
       "      <td>0</td>\n",
       "      <td>Advantages of Limiting Car Usage\\n\\nLimiting c...</td>\n",
       "      <td>1</td>\n",
       "    </tr>\n",
       "    <tr>\n",
       "      <th>2</th>\n",
       "      <td>c9595213</td>\n",
       "      <td>0</td>\n",
       "      <td>Limiting car usage has numerous advantages tha...</td>\n",
       "      <td>1</td>\n",
       "    </tr>\n",
       "    <tr>\n",
       "      <th>3</th>\n",
       "      <td>f2266d87</td>\n",
       "      <td>0</td>\n",
       "      <td>The passages provided discuss the advantages o...</td>\n",
       "      <td>1</td>\n",
       "    </tr>\n",
       "    <tr>\n",
       "      <th>4</th>\n",
       "      <td>eeace4bd</td>\n",
       "      <td>0</td>\n",
       "      <td>Title: The Advantages of Limiting Car Usage\\n\\...</td>\n",
       "      <td>1</td>\n",
       "    </tr>\n",
       "  </tbody>\n",
       "</table>\n",
       "</div>"
      ],
      "text/plain": [
       "         id  prompt_id                                               text  \\\n",
       "0  d429f032          0  Advantages of Limiting Car Usage \\n\\nLimiting ...   \n",
       "1  1ce279be          0  Advantages of Limiting Car Usage\\n\\nLimiting c...   \n",
       "2  c9595213          0  Limiting car usage has numerous advantages tha...   \n",
       "3  f2266d87          0  The passages provided discuss the advantages o...   \n",
       "4  eeace4bd          0  Title: The Advantages of Limiting Car Usage\\n\\...   \n",
       "\n",
       "   generated  \n",
       "0          1  \n",
       "1          1  \n",
       "2          1  \n",
       "3          1  \n",
       "4          1  "
      ]
     },
     "execution_count": 8,
     "metadata": {},
     "output_type": "execute_result"
    }
   ],
   "source": [
    "f3.head()"
   ]
  },
  {
   "cell_type": "code",
   "execution_count": 9,
   "id": "d7ff9943",
   "metadata": {},
   "outputs": [],
   "source": [
    "f4 = pd.read_csv(\"ai_generated_train_essays_gpt-4.csv\")"
   ]
  },
  {
   "cell_type": "code",
   "execution_count": 10,
   "id": "3a88dc22",
   "metadata": {
    "collapsed": true,
    "jupyter": {
     "outputs_hidden": true
    }
   },
   "outputs": [
    {
     "data": {
      "text/html": [
       "<div>\n",
       "<style scoped>\n",
       "    .dataframe tbody tr th:only-of-type {\n",
       "        vertical-align: middle;\n",
       "    }\n",
       "\n",
       "    .dataframe tbody tr th {\n",
       "        vertical-align: top;\n",
       "    }\n",
       "\n",
       "    .dataframe thead th {\n",
       "        text-align: right;\n",
       "    }\n",
       "</style>\n",
       "<table border=\"1\" class=\"dataframe\">\n",
       "  <thead>\n",
       "    <tr style=\"text-align: right;\">\n",
       "      <th></th>\n",
       "      <th>id</th>\n",
       "      <th>prompt_id</th>\n",
       "      <th>text</th>\n",
       "      <th>generated</th>\n",
       "    </tr>\n",
       "  </thead>\n",
       "  <tbody>\n",
       "    <tr>\n",
       "      <th>0</th>\n",
       "      <td>d62377cd</td>\n",
       "      <td>0</td>\n",
       "      <td>Title: The Benefits of Limiting Car Usage: Ins...</td>\n",
       "      <td>1</td>\n",
       "    </tr>\n",
       "    <tr>\n",
       "      <th>1</th>\n",
       "      <td>d721137f</td>\n",
       "      <td>0</td>\n",
       "      <td>Title: The Benefits of Limiting Car Usage\\n\\nI...</td>\n",
       "      <td>1</td>\n",
       "    </tr>\n",
       "    <tr>\n",
       "      <th>2</th>\n",
       "      <td>afc4d9ce</td>\n",
       "      <td>0</td>\n",
       "      <td>Title: The Advantages of Curtailing Car Usage:...</td>\n",
       "      <td>1</td>\n",
       "    </tr>\n",
       "    <tr>\n",
       "      <th>3</th>\n",
       "      <td>1dd6eddd</td>\n",
       "      <td>0</td>\n",
       "      <td>Title: The Benefits of Limiting Car Usage\\n\\nH...</td>\n",
       "      <td>1</td>\n",
       "    </tr>\n",
       "    <tr>\n",
       "      <th>4</th>\n",
       "      <td>9baa7169</td>\n",
       "      <td>0</td>\n",
       "      <td>Title: Advantages of Limiting Car Usage: A Ste...</td>\n",
       "      <td>1</td>\n",
       "    </tr>\n",
       "    <tr>\n",
       "      <th>...</th>\n",
       "      <td>...</td>\n",
       "      <td>...</td>\n",
       "      <td>...</td>\n",
       "      <td>...</td>\n",
       "    </tr>\n",
       "    <tr>\n",
       "      <th>195</th>\n",
       "      <td>47bddafc</td>\n",
       "      <td>1</td>\n",
       "      <td>Dear Senator [Your Senator's Name],\\n\\nI am wr...</td>\n",
       "      <td>1</td>\n",
       "    </tr>\n",
       "    <tr>\n",
       "      <th>196</th>\n",
       "      <td>76e1300e</td>\n",
       "      <td>1</td>\n",
       "      <td>Dear Senator,\\n\\nI am writing today to express...</td>\n",
       "      <td>1</td>\n",
       "    </tr>\n",
       "    <tr>\n",
       "      <th>197</th>\n",
       "      <td>05058b6b</td>\n",
       "      <td>1</td>\n",
       "      <td>Dear Senator,\\n\\nI hope this letter finds you ...</td>\n",
       "      <td>1</td>\n",
       "    </tr>\n",
       "    <tr>\n",
       "      <th>198</th>\n",
       "      <td>1887e7ab</td>\n",
       "      <td>1</td>\n",
       "      <td>Senator [Your Senator’s Name],\\n\\nI am a const...</td>\n",
       "      <td>1</td>\n",
       "    </tr>\n",
       "    <tr>\n",
       "      <th>199</th>\n",
       "      <td>9c442dd0</td>\n",
       "      <td>1</td>\n",
       "      <td>[Your Name]\\n[Your Address]\\n[City, State, Zip...</td>\n",
       "      <td>1</td>\n",
       "    </tr>\n",
       "  </tbody>\n",
       "</table>\n",
       "<p>200 rows × 4 columns</p>\n",
       "</div>"
      ],
      "text/plain": [
       "           id  prompt_id                                               text  \\\n",
       "0    d62377cd          0  Title: The Benefits of Limiting Car Usage: Ins...   \n",
       "1    d721137f          0  Title: The Benefits of Limiting Car Usage\\n\\nI...   \n",
       "2    afc4d9ce          0  Title: The Advantages of Curtailing Car Usage:...   \n",
       "3    1dd6eddd          0  Title: The Benefits of Limiting Car Usage\\n\\nH...   \n",
       "4    9baa7169          0  Title: Advantages of Limiting Car Usage: A Ste...   \n",
       "..        ...        ...                                                ...   \n",
       "195  47bddafc          1  Dear Senator [Your Senator's Name],\\n\\nI am wr...   \n",
       "196  76e1300e          1  Dear Senator,\\n\\nI am writing today to express...   \n",
       "197  05058b6b          1  Dear Senator,\\n\\nI hope this letter finds you ...   \n",
       "198  1887e7ab          1  Senator [Your Senator’s Name],\\n\\nI am a const...   \n",
       "199  9c442dd0          1  [Your Name]\\n[Your Address]\\n[City, State, Zip...   \n",
       "\n",
       "     generated  \n",
       "0            1  \n",
       "1            1  \n",
       "2            1  \n",
       "3            1  \n",
       "4            1  \n",
       "..         ...  \n",
       "195          1  \n",
       "196          1  \n",
       "197          1  \n",
       "198          1  \n",
       "199          1  \n",
       "\n",
       "[200 rows x 4 columns]"
      ]
     },
     "execution_count": 10,
     "metadata": {},
     "output_type": "execute_result"
    }
   ],
   "source": [
    "f4"
   ]
  },
  {
   "cell_type": "code",
   "execution_count": 11,
   "id": "04dcb9ac",
   "metadata": {},
   "outputs": [],
   "source": [
    "import os\n",
    "\n",
    "# Get all CSV files in the current folder\n",
    "csv_files = [f for f in os.listdir() if f.endswith('.csv')]\n",
    "\n",
    "# Create a vector of DataFrames\n",
    "vector = [pd.read_csv(file) for file in csv_files]"
   ]
  },
  {
   "cell_type": "code",
   "execution_count": 14,
   "id": "8e781618",
   "metadata": {},
   "outputs": [],
   "source": [
    "file1 = vector[0]"
   ]
  },
  {
   "cell_type": "code",
   "execution_count": 15,
   "id": "ce5e60d7",
   "metadata": {},
   "outputs": [
    {
     "data": {
      "text/plain": [
       "pandas.core.frame.DataFrame"
      ]
     },
     "execution_count": 15,
     "metadata": {},
     "output_type": "execute_result"
    }
   ],
   "source": [
    "type(file1)"
   ]
  },
  {
   "cell_type": "code",
   "execution_count": 38,
   "id": "44de0de7",
   "metadata": {},
   "outputs": [
    {
     "data": {
      "text/html": [
       "<div>\n",
       "<style scoped>\n",
       "    .dataframe tbody tr th:only-of-type {\n",
       "        vertical-align: middle;\n",
       "    }\n",
       "\n",
       "    .dataframe tbody tr th {\n",
       "        vertical-align: top;\n",
       "    }\n",
       "\n",
       "    .dataframe thead th {\n",
       "        text-align: right;\n",
       "    }\n",
       "</style>\n",
       "<table border=\"1\" class=\"dataframe\">\n",
       "  <thead>\n",
       "    <tr style=\"text-align: right;\">\n",
       "      <th></th>\n",
       "      <th>id</th>\n",
       "      <th>prompt_id</th>\n",
       "      <th>text</th>\n",
       "      <th>generated</th>\n",
       "    </tr>\n",
       "  </thead>\n",
       "  <tbody>\n",
       "    <tr>\n",
       "      <th>0</th>\n",
       "      <td>d62377cd</td>\n",
       "      <td>0</td>\n",
       "      <td>Title: The Benefits of Limiting Car Usage: Ins...</td>\n",
       "      <td>1</td>\n",
       "    </tr>\n",
       "    <tr>\n",
       "      <th>1</th>\n",
       "      <td>d721137f</td>\n",
       "      <td>0</td>\n",
       "      <td>Title: The Benefits of Limiting Car Usage\\n\\nI...</td>\n",
       "      <td>1</td>\n",
       "    </tr>\n",
       "    <tr>\n",
       "      <th>2</th>\n",
       "      <td>afc4d9ce</td>\n",
       "      <td>0</td>\n",
       "      <td>Title: The Advantages of Curtailing Car Usage:...</td>\n",
       "      <td>1</td>\n",
       "    </tr>\n",
       "    <tr>\n",
       "      <th>3</th>\n",
       "      <td>1dd6eddd</td>\n",
       "      <td>0</td>\n",
       "      <td>Title: The Benefits of Limiting Car Usage\\n\\nH...</td>\n",
       "      <td>1</td>\n",
       "    </tr>\n",
       "    <tr>\n",
       "      <th>4</th>\n",
       "      <td>9baa7169</td>\n",
       "      <td>0</td>\n",
       "      <td>Title: Advantages of Limiting Car Usage: A Ste...</td>\n",
       "      <td>1</td>\n",
       "    </tr>\n",
       "  </tbody>\n",
       "</table>\n",
       "</div>"
      ],
      "text/plain": [
       "         id  prompt_id                                               text  \\\n",
       "0  d62377cd          0  Title: The Benefits of Limiting Car Usage: Ins...   \n",
       "1  d721137f          0  Title: The Benefits of Limiting Car Usage\\n\\nI...   \n",
       "2  afc4d9ce          0  Title: The Advantages of Curtailing Car Usage:...   \n",
       "3  1dd6eddd          0  Title: The Benefits of Limiting Car Usage\\n\\nH...   \n",
       "4  9baa7169          0  Title: Advantages of Limiting Car Usage: A Ste...   \n",
       "\n",
       "   generated  \n",
       "0          1  \n",
       "1          1  \n",
       "2          1  \n",
       "3          1  \n",
       "4          1  "
      ]
     },
     "execution_count": 38,
     "metadata": {},
     "output_type": "execute_result"
    }
   ],
   "source": [
    "vector[1].head()"
   ]
  },
  {
   "cell_type": "code",
   "execution_count": 10,
   "id": "112cd3e4",
   "metadata": {},
   "outputs": [],
   "source": [
    "import pandas as pd"
   ]
  },
  {
   "cell_type": "code",
   "execution_count": 2,
   "id": "45f85a0b",
   "metadata": {},
   "outputs": [],
   "source": [
    "stopwords_text = \"\"\"\"i me my myself we our ours ourselves you you're you've you'll you'd your yours \n",
    "yourself yourselves he him his himself she she's her hers herself it it's its itself they them their\n",
    "theirs themselves what which who whom this that that'll these those am is are was were be been being\n",
    "have has had having do does did doing a an the and but if or because as until while of at by for with\n",
    "about against between into through during before after above below to from up down in out on off over\n",
    "under again further then once here there when where why how all any both each few more most other \n",
    "some such only own same so than too very s t can will just don don't should should've now d ll m o \n",
    "re ve y ain aren aren't couldn couldn't didn didn't doesn doesn't hadn hadn't hasn hasn't haven\n",
    "haven't isn isn't ma mightn mightn't mustn mustn't needn needn't shan shan't shouldn shouldn't wasn \n",
    "wasn't weren weren't won won't wouldn wouldn't\"\n",
    "\"\"\""
   ]
  },
  {
   "cell_type": "code",
   "execution_count": 3,
   "id": "699569b8",
   "metadata": {},
   "outputs": [],
   "source": [
    "stopwords_list = stopwords_text.split()"
   ]
  },
  {
   "cell_type": "code",
   "execution_count": 8,
   "id": "3ea296f8",
   "metadata": {},
   "outputs": [
    {
     "data": {
      "text/plain": [
       "176"
      ]
     },
     "execution_count": 8,
     "metadata": {},
     "output_type": "execute_result"
    }
   ],
   "source": [
    "len(stopwords_list)"
   ]
  },
  {
   "cell_type": "code",
   "execution_count": 11,
   "id": "1b4be0f3",
   "metadata": {},
   "outputs": [],
   "source": [
    "df2 = pd.read_csv(\"train_drcat_04.csv\")"
   ]
  },
  {
   "cell_type": "code",
   "execution_count": 12,
   "id": "21025dea",
   "metadata": {
    "scrolled": true
   },
   "outputs": [
    {
     "data": {
      "text/html": [
       "<div>\n",
       "<style scoped>\n",
       "    .dataframe tbody tr th:only-of-type {\n",
       "        vertical-align: middle;\n",
       "    }\n",
       "\n",
       "    .dataframe tbody tr th {\n",
       "        vertical-align: top;\n",
       "    }\n",
       "\n",
       "    .dataframe thead th {\n",
       "        text-align: right;\n",
       "    }\n",
       "</style>\n",
       "<table border=\"1\" class=\"dataframe\">\n",
       "  <thead>\n",
       "    <tr style=\"text-align: right;\">\n",
       "      <th></th>\n",
       "      <th>essay_id</th>\n",
       "      <th>text</th>\n",
       "      <th>label</th>\n",
       "      <th>source</th>\n",
       "      <th>prompt</th>\n",
       "      <th>fold</th>\n",
       "    </tr>\n",
       "  </thead>\n",
       "  <tbody>\n",
       "    <tr>\n",
       "      <th>0</th>\n",
       "      <td>E897534557AF</td>\n",
       "      <td>In recent years, technology has had a profoun...</td>\n",
       "      <td>1</td>\n",
       "      <td>mistral7binstruct_v2</td>\n",
       "      <td>\\nTask: Write an essay discussing the positive...</td>\n",
       "      <td>1</td>\n",
       "    </tr>\n",
       "    <tr>\n",
       "      <th>1</th>\n",
       "      <td>DFBA34FFE11D</td>\n",
       "      <td>Should students participate in an extracurricu...</td>\n",
       "      <td>0</td>\n",
       "      <td>persuade_corpus</td>\n",
       "      <td>NaN</td>\n",
       "      <td>2</td>\n",
       "    </tr>\n",
       "    <tr>\n",
       "      <th>2</th>\n",
       "      <td>af37ecf5</td>\n",
       "      <td>The electoral college is a symbol of mockery a...</td>\n",
       "      <td>0</td>\n",
       "      <td>train_essays</td>\n",
       "      <td>NaN</td>\n",
       "      <td>5</td>\n",
       "    </tr>\n",
       "    <tr>\n",
       "      <th>3</th>\n",
       "      <td>5EC2696BAD78</td>\n",
       "      <td>This is why I think the principle should allow...</td>\n",
       "      <td>0</td>\n",
       "      <td>persuade_corpus</td>\n",
       "      <td>NaN</td>\n",
       "      <td>8</td>\n",
       "    </tr>\n",
       "    <tr>\n",
       "      <th>4</th>\n",
       "      <td>llama_70b_v1843</td>\n",
       "      <td>I strongly believe that meditation and mindful...</td>\n",
       "      <td>1</td>\n",
       "      <td>llama_70b_v1</td>\n",
       "      <td>Some schools have implemented meditation and m...</td>\n",
       "      <td>0</td>\n",
       "    </tr>\n",
       "  </tbody>\n",
       "</table>\n",
       "</div>"
      ],
      "text/plain": [
       "          essay_id                                               text  label  \\\n",
       "0     E897534557AF   In recent years, technology has had a profoun...      1   \n",
       "1     DFBA34FFE11D  Should students participate in an extracurricu...      0   \n",
       "2         af37ecf5  The electoral college is a symbol of mockery a...      0   \n",
       "3     5EC2696BAD78  This is why I think the principle should allow...      0   \n",
       "4  llama_70b_v1843  I strongly believe that meditation and mindful...      1   \n",
       "\n",
       "                 source                                             prompt  \\\n",
       "0  mistral7binstruct_v2  \\nTask: Write an essay discussing the positive...   \n",
       "1       persuade_corpus                                                NaN   \n",
       "2          train_essays                                                NaN   \n",
       "3       persuade_corpus                                                NaN   \n",
       "4          llama_70b_v1  Some schools have implemented meditation and m...   \n",
       "\n",
       "   fold  \n",
       "0     1  \n",
       "1     2  \n",
       "2     5  \n",
       "3     8  \n",
       "4     0  "
      ]
     },
     "execution_count": 12,
     "metadata": {},
     "output_type": "execute_result"
    }
   ],
   "source": [
    "df2.head()"
   ]
  },
  {
   "cell_type": "code",
   "execution_count": 13,
   "id": "3e759b75",
   "metadata": {},
   "outputs": [
    {
     "data": {
      "text/html": [
       "<div>\n",
       "<style scoped>\n",
       "    .dataframe tbody tr th:only-of-type {\n",
       "        vertical-align: middle;\n",
       "    }\n",
       "\n",
       "    .dataframe tbody tr th {\n",
       "        vertical-align: top;\n",
       "    }\n",
       "\n",
       "    .dataframe thead th {\n",
       "        text-align: right;\n",
       "    }\n",
       "</style>\n",
       "<table border=\"1\" class=\"dataframe\">\n",
       "  <thead>\n",
       "    <tr style=\"text-align: right;\">\n",
       "      <th></th>\n",
       "      <th>text</th>\n",
       "      <th>generated</th>\n",
       "    </tr>\n",
       "  </thead>\n",
       "  <tbody>\n",
       "    <tr>\n",
       "      <th>0</th>\n",
       "      <td>In recent years, technology has had a profoun...</td>\n",
       "      <td>1</td>\n",
       "    </tr>\n",
       "    <tr>\n",
       "      <th>1</th>\n",
       "      <td>Should students participate in an extracurricu...</td>\n",
       "      <td>0</td>\n",
       "    </tr>\n",
       "    <tr>\n",
       "      <th>2</th>\n",
       "      <td>The electoral college is a symbol of mockery a...</td>\n",
       "      <td>0</td>\n",
       "    </tr>\n",
       "    <tr>\n",
       "      <th>3</th>\n",
       "      <td>This is why I think the principle should allow...</td>\n",
       "      <td>0</td>\n",
       "    </tr>\n",
       "    <tr>\n",
       "      <th>4</th>\n",
       "      <td>I strongly believe that meditation and mindful...</td>\n",
       "      <td>1</td>\n",
       "    </tr>\n",
       "  </tbody>\n",
       "</table>\n",
       "</div>"
      ],
      "text/plain": [
       "                                                text  generated\n",
       "0   In recent years, technology has had a profoun...          1\n",
       "1  Should students participate in an extracurricu...          0\n",
       "2  The electoral college is a symbol of mockery a...          0\n",
       "3  This is why I think the principle should allow...          0\n",
       "4  I strongly believe that meditation and mindful...          1"
      ]
     },
     "execution_count": 13,
     "metadata": {},
     "output_type": "execute_result"
    }
   ],
   "source": [
    "df2 = df2[['text','label']]\n",
    "df2.columns = ['text','generated']\n",
    "df2.head()"
   ]
  },
  {
   "cell_type": "code",
   "execution_count": 14,
   "id": "af1e8449",
   "metadata": {},
   "outputs": [],
   "source": [
    "df3 = pd.read_csv(\"train_essays_RDizzl3_seven_v1.csv\")"
   ]
  },
  {
   "cell_type": "code",
   "execution_count": 15,
   "id": "01891d74",
   "metadata": {},
   "outputs": [
    {
     "data": {
      "text/html": [
       "<div>\n",
       "<style scoped>\n",
       "    .dataframe tbody tr th:only-of-type {\n",
       "        vertical-align: middle;\n",
       "    }\n",
       "\n",
       "    .dataframe tbody tr th {\n",
       "        vertical-align: top;\n",
       "    }\n",
       "\n",
       "    .dataframe thead th {\n",
       "        text-align: right;\n",
       "    }\n",
       "</style>\n",
       "<table border=\"1\" class=\"dataframe\">\n",
       "  <thead>\n",
       "    <tr style=\"text-align: right;\">\n",
       "      <th></th>\n",
       "      <th>text</th>\n",
       "      <th>label</th>\n",
       "    </tr>\n",
       "  </thead>\n",
       "  <tbody>\n",
       "    <tr>\n",
       "      <th>0</th>\n",
       "      <td>Cars. Cars have been around since they became ...</td>\n",
       "      <td>0</td>\n",
       "    </tr>\n",
       "    <tr>\n",
       "      <th>1</th>\n",
       "      <td>Transportation is a large necessity in most co...</td>\n",
       "      <td>0</td>\n",
       "    </tr>\n",
       "    <tr>\n",
       "      <th>2</th>\n",
       "      <td>\"America's love affair with it's vehicles seem...</td>\n",
       "      <td>0</td>\n",
       "    </tr>\n",
       "    <tr>\n",
       "      <th>3</th>\n",
       "      <td>How often do you ride in a car? Do you drive a...</td>\n",
       "      <td>0</td>\n",
       "    </tr>\n",
       "    <tr>\n",
       "      <th>4</th>\n",
       "      <td>Cars are a wonderful thing. They are perhaps o...</td>\n",
       "      <td>0</td>\n",
       "    </tr>\n",
       "  </tbody>\n",
       "</table>\n",
       "</div>"
      ],
      "text/plain": [
       "                                                text  label\n",
       "0  Cars. Cars have been around since they became ...      0\n",
       "1  Transportation is a large necessity in most co...      0\n",
       "2  \"America's love affair with it's vehicles seem...      0\n",
       "3  How often do you ride in a car? Do you drive a...      0\n",
       "4  Cars are a wonderful thing. They are perhaps o...      0"
      ]
     },
     "execution_count": 15,
     "metadata": {},
     "output_type": "execute_result"
    }
   ],
   "source": [
    "df3.head()"
   ]
  },
  {
   "cell_type": "code",
   "execution_count": 25,
   "id": "017d0f5d-4430-4440-8cd2-fbe595c0bcc8",
   "metadata": {},
   "outputs": [
    {
     "ename": "NameError",
     "evalue": "name 'df3' is not defined",
     "output_type": "error",
     "traceback": [
      "\u001b[1;31m---------------------------------------------------------------------------\u001b[0m",
      "\u001b[1;31mNameError\u001b[0m                                 Traceback (most recent call last)",
      "Cell \u001b[1;32mIn[25], line 1\u001b[0m\n\u001b[1;32m----> 1\u001b[0m \u001b[43mdf3\u001b[49m[\u001b[38;5;124m'\u001b[39m\u001b[38;5;124mtext\u001b[39m\u001b[38;5;124m'\u001b[39m]\n",
      "\u001b[1;31mNameError\u001b[0m: name 'df3' is not defined"
     ]
    }
   ],
   "source": [
    "df3['text']"
   ]
  },
  {
   "cell_type": "code",
   "execution_count": 16,
   "id": "aca141ba",
   "metadata": {},
   "outputs": [],
   "source": [
    "df3.columns = ['text','generated']"
   ]
  },
  {
   "cell_type": "code",
   "execution_count": 17,
   "id": "d52d6187",
   "metadata": {},
   "outputs": [
    {
     "data": {
      "text/html": [
       "<div>\n",
       "<style scoped>\n",
       "    .dataframe tbody tr th:only-of-type {\n",
       "        vertical-align: middle;\n",
       "    }\n",
       "\n",
       "    .dataframe tbody tr th {\n",
       "        vertical-align: top;\n",
       "    }\n",
       "\n",
       "    .dataframe thead th {\n",
       "        text-align: right;\n",
       "    }\n",
       "</style>\n",
       "<table border=\"1\" class=\"dataframe\">\n",
       "  <thead>\n",
       "    <tr style=\"text-align: right;\">\n",
       "      <th></th>\n",
       "      <th>text</th>\n",
       "      <th>generated</th>\n",
       "    </tr>\n",
       "  </thead>\n",
       "  <tbody>\n",
       "    <tr>\n",
       "      <th>0</th>\n",
       "      <td>Cars. Cars have been around since they became ...</td>\n",
       "      <td>0</td>\n",
       "    </tr>\n",
       "    <tr>\n",
       "      <th>1</th>\n",
       "      <td>Transportation is a large necessity in most co...</td>\n",
       "      <td>0</td>\n",
       "    </tr>\n",
       "    <tr>\n",
       "      <th>2</th>\n",
       "      <td>\"America's love affair with it's vehicles seem...</td>\n",
       "      <td>0</td>\n",
       "    </tr>\n",
       "    <tr>\n",
       "      <th>3</th>\n",
       "      <td>How often do you ride in a car? Do you drive a...</td>\n",
       "      <td>0</td>\n",
       "    </tr>\n",
       "    <tr>\n",
       "      <th>4</th>\n",
       "      <td>Cars are a wonderful thing. They are perhaps o...</td>\n",
       "      <td>0</td>\n",
       "    </tr>\n",
       "  </tbody>\n",
       "</table>\n",
       "</div>"
      ],
      "text/plain": [
       "                                                text  generated\n",
       "0  Cars. Cars have been around since they became ...          0\n",
       "1  Transportation is a large necessity in most co...          0\n",
       "2  \"America's love affair with it's vehicles seem...          0\n",
       "3  How often do you ride in a car? Do you drive a...          0\n",
       "4  Cars are a wonderful thing. They are perhaps o...          0"
      ]
     },
     "execution_count": 17,
     "metadata": {},
     "output_type": "execute_result"
    }
   ],
   "source": [
    "df3.head()"
   ]
  },
  {
   "cell_type": "code",
   "execution_count": 18,
   "id": "ac7ba413",
   "metadata": {},
   "outputs": [],
   "source": [
    "df = pd.read_csv(\"Training_Essay_Data.csv\")"
   ]
  },
  {
   "cell_type": "code",
   "execution_count": 19,
   "id": "1633697f",
   "metadata": {},
   "outputs": [
    {
     "data": {
      "text/html": [
       "<div>\n",
       "<style scoped>\n",
       "    .dataframe tbody tr th:only-of-type {\n",
       "        vertical-align: middle;\n",
       "    }\n",
       "\n",
       "    .dataframe tbody tr th {\n",
       "        vertical-align: top;\n",
       "    }\n",
       "\n",
       "    .dataframe thead th {\n",
       "        text-align: right;\n",
       "    }\n",
       "</style>\n",
       "<table border=\"1\" class=\"dataframe\">\n",
       "  <thead>\n",
       "    <tr style=\"text-align: right;\">\n",
       "      <th></th>\n",
       "      <th>text</th>\n",
       "      <th>generated</th>\n",
       "    </tr>\n",
       "  </thead>\n",
       "  <tbody>\n",
       "    <tr>\n",
       "      <th>0</th>\n",
       "      <td>Car-free cities have become a subject of incre...</td>\n",
       "      <td>1</td>\n",
       "    </tr>\n",
       "    <tr>\n",
       "      <th>1</th>\n",
       "      <td>Car Free Cities  Car-free cities, a concept ga...</td>\n",
       "      <td>1</td>\n",
       "    </tr>\n",
       "    <tr>\n",
       "      <th>2</th>\n",
       "      <td>A Sustainable Urban Future  Car-free cities ...</td>\n",
       "      <td>1</td>\n",
       "    </tr>\n",
       "    <tr>\n",
       "      <th>3</th>\n",
       "      <td>Pioneering Sustainable Urban Living  In an e...</td>\n",
       "      <td>1</td>\n",
       "    </tr>\n",
       "    <tr>\n",
       "      <th>4</th>\n",
       "      <td>The Path to Sustainable Urban Living  In an ...</td>\n",
       "      <td>1</td>\n",
       "    </tr>\n",
       "  </tbody>\n",
       "</table>\n",
       "</div>"
      ],
      "text/plain": [
       "                                                text  generated\n",
       "0  Car-free cities have become a subject of incre...          1\n",
       "1  Car Free Cities  Car-free cities, a concept ga...          1\n",
       "2    A Sustainable Urban Future  Car-free cities ...          1\n",
       "3    Pioneering Sustainable Urban Living  In an e...          1\n",
       "4    The Path to Sustainable Urban Living  In an ...          1"
      ]
     },
     "execution_count": 19,
     "metadata": {},
     "output_type": "execute_result"
    }
   ],
   "source": [
    "df.head()"
   ]
  },
  {
   "cell_type": "code",
   "execution_count": 20,
   "id": "0cdf58fe",
   "metadata": {},
   "outputs": [],
   "source": [
    "train_data = pd.concat([df3,df2,df],axis=0,ignore_index=True)"
   ]
  },
  {
   "cell_type": "code",
   "execution_count": 22,
   "id": "80d772c1",
   "metadata": {},
   "outputs": [
    {
     "data": {
      "text/plain": [
       "(89222, 2)"
      ]
     },
     "execution_count": 22,
     "metadata": {},
     "output_type": "execute_result"
    }
   ],
   "source": [
    "train_data.shape"
   ]
  },
  {
   "cell_type": "code",
   "execution_count": 23,
   "id": "5ca53591",
   "metadata": {},
   "outputs": [],
   "source": [
    "train_data.drop_duplicates(inplace=True,ignore_index=True)"
   ]
  },
  {
   "cell_type": "code",
   "execution_count": 24,
   "id": "edf254d2",
   "metadata": {},
   "outputs": [
    {
     "data": {
      "text/plain": [
       "(65462, 2)"
      ]
     },
     "execution_count": 24,
     "metadata": {},
     "output_type": "execute_result"
    }
   ],
   "source": [
    "train_data.shape"
   ]
  },
  {
   "cell_type": "code",
   "execution_count": 25,
   "id": "409271ef",
   "metadata": {
    "collapsed": true,
    "jupyter": {
     "outputs_hidden": true
    }
   },
   "outputs": [
    {
     "data": {
      "text/html": [
       "<div>\n",
       "<style scoped>\n",
       "    .dataframe tbody tr th:only-of-type {\n",
       "        vertical-align: middle;\n",
       "    }\n",
       "\n",
       "    .dataframe tbody tr th {\n",
       "        vertical-align: top;\n",
       "    }\n",
       "\n",
       "    .dataframe thead th {\n",
       "        text-align: right;\n",
       "    }\n",
       "</style>\n",
       "<table border=\"1\" class=\"dataframe\">\n",
       "  <thead>\n",
       "    <tr style=\"text-align: right;\">\n",
       "      <th></th>\n",
       "      <th>text</th>\n",
       "      <th>generated</th>\n",
       "    </tr>\n",
       "  </thead>\n",
       "  <tbody>\n",
       "    <tr>\n",
       "      <th>0</th>\n",
       "      <td>Cars. Cars have been around since they became ...</td>\n",
       "      <td>0</td>\n",
       "    </tr>\n",
       "    <tr>\n",
       "      <th>1</th>\n",
       "      <td>Transportation is a large necessity in most co...</td>\n",
       "      <td>0</td>\n",
       "    </tr>\n",
       "    <tr>\n",
       "      <th>2</th>\n",
       "      <td>\"America's love affair with it's vehicles seem...</td>\n",
       "      <td>0</td>\n",
       "    </tr>\n",
       "    <tr>\n",
       "      <th>3</th>\n",
       "      <td>How often do you ride in a car? Do you drive a...</td>\n",
       "      <td>0</td>\n",
       "    </tr>\n",
       "    <tr>\n",
       "      <th>4</th>\n",
       "      <td>Cars are a wonderful thing. They are perhaps o...</td>\n",
       "      <td>0</td>\n",
       "    </tr>\n",
       "    <tr>\n",
       "      <th>...</th>\n",
       "      <td>...</td>\n",
       "      <td>...</td>\n",
       "    </tr>\n",
       "    <tr>\n",
       "      <th>65457</th>\n",
       "      <td>Today's society is ever-evolving and the role ...</td>\n",
       "      <td>1</td>\n",
       "    </tr>\n",
       "    <tr>\n",
       "      <th>65458</th>\n",
       "      <td>The ever-evolving world of technology has chan...</td>\n",
       "      <td>1</td>\n",
       "    </tr>\n",
       "    <tr>\n",
       "      <th>65459</th>\n",
       "      <td>Fostering a Rescue Dog: Gaining Unconditional ...</td>\n",
       "      <td>1</td>\n",
       "    </tr>\n",
       "    <tr>\n",
       "      <th>65460</th>\n",
       "      <td>The importance of a solid foundation in educat...</td>\n",
       "      <td>1</td>\n",
       "    </tr>\n",
       "    <tr>\n",
       "      <th>65461</th>\n",
       "      <td>Over the last decade, cities around the world ...</td>\n",
       "      <td>1</td>\n",
       "    </tr>\n",
       "  </tbody>\n",
       "</table>\n",
       "<p>65462 rows × 2 columns</p>\n",
       "</div>"
      ],
      "text/plain": [
       "                                                    text  generated\n",
       "0      Cars. Cars have been around since they became ...          0\n",
       "1      Transportation is a large necessity in most co...          0\n",
       "2      \"America's love affair with it's vehicles seem...          0\n",
       "3      How often do you ride in a car? Do you drive a...          0\n",
       "4      Cars are a wonderful thing. They are perhaps o...          0\n",
       "...                                                  ...        ...\n",
       "65457  Today's society is ever-evolving and the role ...          1\n",
       "65458  The ever-evolving world of technology has chan...          1\n",
       "65459  Fostering a Rescue Dog: Gaining Unconditional ...          1\n",
       "65460  The importance of a solid foundation in educat...          1\n",
       "65461  Over the last decade, cities around the world ...          1\n",
       "\n",
       "[65462 rows x 2 columns]"
      ]
     },
     "execution_count": 25,
     "metadata": {},
     "output_type": "execute_result"
    }
   ],
   "source": [
    "train_data"
   ]
  },
  {
   "cell_type": "code",
   "execution_count": 26,
   "id": "df5669e0",
   "metadata": {},
   "outputs": [],
   "source": [
    "d1 = pd.read_csv(\"falcon_180b_v1.csv\")"
   ]
  },
  {
   "cell_type": "code",
   "execution_count": 27,
   "id": "12d71964",
   "metadata": {
    "collapsed": true,
    "jupyter": {
     "outputs_hidden": true
    }
   },
   "outputs": [
    {
     "data": {
      "text/html": [
       "<div>\n",
       "<style scoped>\n",
       "    .dataframe tbody tr th:only-of-type {\n",
       "        vertical-align: middle;\n",
       "    }\n",
       "\n",
       "    .dataframe tbody tr th {\n",
       "        vertical-align: top;\n",
       "    }\n",
       "\n",
       "    .dataframe thead th {\n",
       "        text-align: right;\n",
       "    }\n",
       "</style>\n",
       "<table border=\"1\" class=\"dataframe\">\n",
       "  <thead>\n",
       "    <tr style=\"text-align: right;\">\n",
       "      <th></th>\n",
       "      <th>generated_text</th>\n",
       "      <th>writing_prompt</th>\n",
       "    </tr>\n",
       "  </thead>\n",
       "  <tbody>\n",
       "    <tr>\n",
       "      <th>0</th>\n",
       "      <td>Dear Principal,\\n\\nI am writing to express my ...</td>\n",
       "      <td>Your principal is considering changing school ...</td>\n",
       "    </tr>\n",
       "    <tr>\n",
       "      <th>1</th>\n",
       "      <td>When people are faced with a difficult decisio...</td>\n",
       "      <td>When people ask for advice, they sometimes tal...</td>\n",
       "    </tr>\n",
       "    <tr>\n",
       "      <th>2</th>\n",
       "      <td>As a grade 12 student, I believe that summer p...</td>\n",
       "      <td>Some schools require students to complete summ...</td>\n",
       "    </tr>\n",
       "    <tr>\n",
       "      <th>3</th>\n",
       "      <td>Dear Principal,\\n\\nI am writing to share my th...</td>\n",
       "      <td>Some of your friends perform community service...</td>\n",
       "    </tr>\n",
       "    <tr>\n",
       "      <th>4</th>\n",
       "      <td>\"Making Mona Lisa Smile\" is an interesting art...</td>\n",
       "      <td>In the article \"Making Mona Lisa Smile,\" the a...</td>\n",
       "    </tr>\n",
       "    <tr>\n",
       "      <th>...</th>\n",
       "      <td>...</td>\n",
       "      <td>...</td>\n",
       "    </tr>\n",
       "    <tr>\n",
       "      <th>1050</th>\n",
       "      <td>(I am not capable of personal opinions or beli...</td>\n",
       "      <td>The role of zoos in conservation and education...</td>\n",
       "    </tr>\n",
       "    <tr>\n",
       "      <th>1051</th>\n",
       "      <td>In \"The Challenge of Exploring Venus,\" the aut...</td>\n",
       "      <td>In \"The Challenge of Exploring Venus,\" the aut...</td>\n",
       "    </tr>\n",
       "    <tr>\n",
       "      <th>1052</th>\n",
       "      <td>The article \"Making Mona Lisa Smile\" discusses...</td>\n",
       "      <td>In the article \"Making Mona Lisa Smile,\" the a...</td>\n",
       "    </tr>\n",
       "    <tr>\n",
       "      <th>1053</th>\n",
       "      <td>As a grade 6 student, I am still learning abou...</td>\n",
       "      <td>The issue of gun control is a highly contentio...</td>\n",
       "    </tr>\n",
       "    <tr>\n",
       "      <th>1054</th>\n",
       "      <td>Passage 1:\\n\\nCars are one of the main ways in...</td>\n",
       "      <td>Write an explanatory essay to inform fellow ci...</td>\n",
       "    </tr>\n",
       "  </tbody>\n",
       "</table>\n",
       "<p>1055 rows × 2 columns</p>\n",
       "</div>"
      ],
      "text/plain": [
       "                                         generated_text  \\\n",
       "0     Dear Principal,\\n\\nI am writing to express my ...   \n",
       "1     When people are faced with a difficult decisio...   \n",
       "2     As a grade 12 student, I believe that summer p...   \n",
       "3     Dear Principal,\\n\\nI am writing to share my th...   \n",
       "4     \"Making Mona Lisa Smile\" is an interesting art...   \n",
       "...                                                 ...   \n",
       "1050  (I am not capable of personal opinions or beli...   \n",
       "1051  In \"The Challenge of Exploring Venus,\" the aut...   \n",
       "1052  The article \"Making Mona Lisa Smile\" discusses...   \n",
       "1053  As a grade 6 student, I am still learning abou...   \n",
       "1054  Passage 1:\\n\\nCars are one of the main ways in...   \n",
       "\n",
       "                                         writing_prompt  \n",
       "0     Your principal is considering changing school ...  \n",
       "1     When people ask for advice, they sometimes tal...  \n",
       "2     Some schools require students to complete summ...  \n",
       "3     Some of your friends perform community service...  \n",
       "4     In the article \"Making Mona Lisa Smile,\" the a...  \n",
       "...                                                 ...  \n",
       "1050  The role of zoos in conservation and education...  \n",
       "1051  In \"The Challenge of Exploring Venus,\" the aut...  \n",
       "1052  In the article \"Making Mona Lisa Smile,\" the a...  \n",
       "1053  The issue of gun control is a highly contentio...  \n",
       "1054  Write an explanatory essay to inform fellow ci...  \n",
       "\n",
       "[1055 rows x 2 columns]"
      ]
     },
     "execution_count": 27,
     "metadata": {},
     "output_type": "execute_result"
    }
   ],
   "source": [
    "d1"
   ]
  },
  {
   "cell_type": "code",
   "execution_count": 28,
   "id": "aa53ebd1",
   "metadata": {},
   "outputs": [],
   "source": [
    "d2 = pd.read_csv(\"llama_70b_v1.csv\")"
   ]
  },
  {
   "cell_type": "code",
   "execution_count": 29,
   "id": "4ec75707",
   "metadata": {
    "collapsed": true,
    "jupyter": {
     "outputs_hidden": true
    }
   },
   "outputs": [
    {
     "data": {
      "text/html": [
       "<div>\n",
       "<style scoped>\n",
       "    .dataframe tbody tr th:only-of-type {\n",
       "        vertical-align: middle;\n",
       "    }\n",
       "\n",
       "    .dataframe tbody tr th {\n",
       "        vertical-align: top;\n",
       "    }\n",
       "\n",
       "    .dataframe thead th {\n",
       "        text-align: right;\n",
       "    }\n",
       "</style>\n",
       "<table border=\"1\" class=\"dataframe\">\n",
       "  <thead>\n",
       "    <tr style=\"text-align: right;\">\n",
       "      <th></th>\n",
       "      <th>generated_text</th>\n",
       "      <th>writing_prompt</th>\n",
       "    </tr>\n",
       "  </thead>\n",
       "  <tbody>\n",
       "    <tr>\n",
       "      <th>0</th>\n",
       "      <td>Dear State Senator,\\n\\nI'm writting to you tod...</td>\n",
       "      <td>Write a letter to your state senator in which ...</td>\n",
       "    </tr>\n",
       "    <tr>\n",
       "      <th>1</th>\n",
       "      <td>Uh, hi! So, like, summers are, like, awesome r...</td>\n",
       "      <td>Some schools require students to complete summ...</td>\n",
       "    </tr>\n",
       "    <tr>\n",
       "      <th>2</th>\n",
       "      <td>When peoples ask for advices, they sometimes t...</td>\n",
       "      <td>When people ask for advice, they sometimes tal...</td>\n",
       "    </tr>\n",
       "    <tr>\n",
       "      <th>3</th>\n",
       "      <td>I think art edukation is super impotent for ki...</td>\n",
       "      <td>Many people believe that arts education is ess...</td>\n",
       "    </tr>\n",
       "    <tr>\n",
       "      <th>4</th>\n",
       "      <td>I think we should totally switch to renewable ...</td>\n",
       "      <td>In recent years, there has been a push towards...</td>\n",
       "    </tr>\n",
       "    <tr>\n",
       "      <th>...</th>\n",
       "      <td>...</td>\n",
       "      <td>...</td>\n",
       "    </tr>\n",
       "    <tr>\n",
       "      <th>1167</th>\n",
       "      <td>Climate change is a really important issue tha...</td>\n",
       "      <td>The issue of climate change has become increas...</td>\n",
       "    </tr>\n",
       "    <tr>\n",
       "      <th>1168</th>\n",
       "      <td>Introduction:\\n\\nDriverless cars, a technology...</td>\n",
       "      <td>In the article “Driverless Cars are Coming,” t...</td>\n",
       "    </tr>\n",
       "    <tr>\n",
       "      <th>1169</th>\n",
       "      <td>Social media has become an integral part of ou...</td>\n",
       "      <td>The impact of social media on society has been...</td>\n",
       "    </tr>\n",
       "    <tr>\n",
       "      <th>1170</th>\n",
       "      <td>Meat, it's something that many of us have grow...</td>\n",
       "      <td>There is a growing movement advocating for the...</td>\n",
       "    </tr>\n",
       "    <tr>\n",
       "      <th>1171</th>\n",
       "      <td>The legalization of marijuana has been a topic...</td>\n",
       "      <td>The legalization of marijuana has been a contr...</td>\n",
       "    </tr>\n",
       "  </tbody>\n",
       "</table>\n",
       "<p>1172 rows × 2 columns</p>\n",
       "</div>"
      ],
      "text/plain": [
       "                                         generated_text  \\\n",
       "0     Dear State Senator,\\n\\nI'm writting to you tod...   \n",
       "1     Uh, hi! So, like, summers are, like, awesome r...   \n",
       "2     When peoples ask for advices, they sometimes t...   \n",
       "3     I think art edukation is super impotent for ki...   \n",
       "4     I think we should totally switch to renewable ...   \n",
       "...                                                 ...   \n",
       "1167  Climate change is a really important issue tha...   \n",
       "1168  Introduction:\\n\\nDriverless cars, a technology...   \n",
       "1169  Social media has become an integral part of ou...   \n",
       "1170  Meat, it's something that many of us have grow...   \n",
       "1171  The legalization of marijuana has been a topic...   \n",
       "\n",
       "                                         writing_prompt  \n",
       "0     Write a letter to your state senator in which ...  \n",
       "1     Some schools require students to complete summ...  \n",
       "2     When people ask for advice, they sometimes tal...  \n",
       "3     Many people believe that arts education is ess...  \n",
       "4     In recent years, there has been a push towards...  \n",
       "...                                                 ...  \n",
       "1167  The issue of climate change has become increas...  \n",
       "1168  In the article “Driverless Cars are Coming,” t...  \n",
       "1169  The impact of social media on society has been...  \n",
       "1170  There is a growing movement advocating for the...  \n",
       "1171  The legalization of marijuana has been a contr...  \n",
       "\n",
       "[1172 rows x 2 columns]"
      ]
     },
     "execution_count": 29,
     "metadata": {},
     "output_type": "execute_result"
    }
   ],
   "source": [
    "d2"
   ]
  },
  {
   "cell_type": "code",
   "execution_count": 30,
   "id": "11428319",
   "metadata": {},
   "outputs": [],
   "source": [
    "data = pd.concat([d1,d2],axis=0,ignore_index=True)"
   ]
  },
  {
   "cell_type": "code",
   "execution_count": 31,
   "id": "40c16bd1",
   "metadata": {},
   "outputs": [
    {
     "data": {
      "text/plain": [
       "(2227, 2)"
      ]
     },
     "execution_count": 31,
     "metadata": {},
     "output_type": "execute_result"
    }
   ],
   "source": [
    "data.shape"
   ]
  },
  {
   "cell_type": "code",
   "execution_count": 32,
   "id": "630ef2f6",
   "metadata": {},
   "outputs": [],
   "source": [
    "data['generated'] = 1"
   ]
  },
  {
   "cell_type": "code",
   "execution_count": 33,
   "id": "adf1f4ab",
   "metadata": {},
   "outputs": [],
   "source": [
    "data.columns = ['text','writing_prompt','generated']"
   ]
  },
  {
   "cell_type": "code",
   "execution_count": 34,
   "id": "60da3095",
   "metadata": {},
   "outputs": [],
   "source": [
    "data = data[['text','generated']]"
   ]
  },
  {
   "cell_type": "code",
   "execution_count": 35,
   "id": "c28aab70",
   "metadata": {
    "scrolled": true
   },
   "outputs": [
    {
     "data": {
      "text/html": [
       "<div>\n",
       "<style scoped>\n",
       "    .dataframe tbody tr th:only-of-type {\n",
       "        vertical-align: middle;\n",
       "    }\n",
       "\n",
       "    .dataframe tbody tr th {\n",
       "        vertical-align: top;\n",
       "    }\n",
       "\n",
       "    .dataframe thead th {\n",
       "        text-align: right;\n",
       "    }\n",
       "</style>\n",
       "<table border=\"1\" class=\"dataframe\">\n",
       "  <thead>\n",
       "    <tr style=\"text-align: right;\">\n",
       "      <th></th>\n",
       "      <th>text</th>\n",
       "      <th>generated</th>\n",
       "    </tr>\n",
       "  </thead>\n",
       "  <tbody>\n",
       "    <tr>\n",
       "      <th>0</th>\n",
       "      <td>Dear Principal,\\n\\nI am writing to express my ...</td>\n",
       "      <td>1</td>\n",
       "    </tr>\n",
       "    <tr>\n",
       "      <th>1</th>\n",
       "      <td>When people are faced with a difficult decisio...</td>\n",
       "      <td>1</td>\n",
       "    </tr>\n",
       "    <tr>\n",
       "      <th>2</th>\n",
       "      <td>As a grade 12 student, I believe that summer p...</td>\n",
       "      <td>1</td>\n",
       "    </tr>\n",
       "    <tr>\n",
       "      <th>3</th>\n",
       "      <td>Dear Principal,\\n\\nI am writing to share my th...</td>\n",
       "      <td>1</td>\n",
       "    </tr>\n",
       "    <tr>\n",
       "      <th>4</th>\n",
       "      <td>\"Making Mona Lisa Smile\" is an interesting art...</td>\n",
       "      <td>1</td>\n",
       "    </tr>\n",
       "    <tr>\n",
       "      <th>...</th>\n",
       "      <td>...</td>\n",
       "      <td>...</td>\n",
       "    </tr>\n",
       "    <tr>\n",
       "      <th>2222</th>\n",
       "      <td>Climate change is a really important issue tha...</td>\n",
       "      <td>1</td>\n",
       "    </tr>\n",
       "    <tr>\n",
       "      <th>2223</th>\n",
       "      <td>Introduction:\\n\\nDriverless cars, a technology...</td>\n",
       "      <td>1</td>\n",
       "    </tr>\n",
       "    <tr>\n",
       "      <th>2224</th>\n",
       "      <td>Social media has become an integral part of ou...</td>\n",
       "      <td>1</td>\n",
       "    </tr>\n",
       "    <tr>\n",
       "      <th>2225</th>\n",
       "      <td>Meat, it's something that many of us have grow...</td>\n",
       "      <td>1</td>\n",
       "    </tr>\n",
       "    <tr>\n",
       "      <th>2226</th>\n",
       "      <td>The legalization of marijuana has been a topic...</td>\n",
       "      <td>1</td>\n",
       "    </tr>\n",
       "  </tbody>\n",
       "</table>\n",
       "<p>2227 rows × 2 columns</p>\n",
       "</div>"
      ],
      "text/plain": [
       "                                                   text  generated\n",
       "0     Dear Principal,\\n\\nI am writing to express my ...          1\n",
       "1     When people are faced with a difficult decisio...          1\n",
       "2     As a grade 12 student, I believe that summer p...          1\n",
       "3     Dear Principal,\\n\\nI am writing to share my th...          1\n",
       "4     \"Making Mona Lisa Smile\" is an interesting art...          1\n",
       "...                                                 ...        ...\n",
       "2222  Climate change is a really important issue tha...          1\n",
       "2223  Introduction:\\n\\nDriverless cars, a technology...          1\n",
       "2224  Social media has become an integral part of ou...          1\n",
       "2225  Meat, it's something that many of us have grow...          1\n",
       "2226  The legalization of marijuana has been a topic...          1\n",
       "\n",
       "[2227 rows x 2 columns]"
      ]
     },
     "execution_count": 35,
     "metadata": {},
     "output_type": "execute_result"
    }
   ],
   "source": [
    "data"
   ]
  },
  {
   "cell_type": "code",
   "execution_count": 36,
   "id": "b59f9d7d",
   "metadata": {},
   "outputs": [],
   "source": [
    "Train_Data = pd.concat([train_data,data],axis=0,ignore_index=True)"
   ]
  },
  {
   "cell_type": "code",
   "execution_count": 37,
   "id": "aa0b5446",
   "metadata": {},
   "outputs": [
    {
     "data": {
      "text/html": [
       "<div>\n",
       "<style scoped>\n",
       "    .dataframe tbody tr th:only-of-type {\n",
       "        vertical-align: middle;\n",
       "    }\n",
       "\n",
       "    .dataframe tbody tr th {\n",
       "        vertical-align: top;\n",
       "    }\n",
       "\n",
       "    .dataframe thead th {\n",
       "        text-align: right;\n",
       "    }\n",
       "</style>\n",
       "<table border=\"1\" class=\"dataframe\">\n",
       "  <thead>\n",
       "    <tr style=\"text-align: right;\">\n",
       "      <th></th>\n",
       "      <th>text</th>\n",
       "      <th>generated</th>\n",
       "    </tr>\n",
       "  </thead>\n",
       "  <tbody>\n",
       "    <tr>\n",
       "      <th>0</th>\n",
       "      <td>Cars. Cars have been around since they became ...</td>\n",
       "      <td>0</td>\n",
       "    </tr>\n",
       "    <tr>\n",
       "      <th>1</th>\n",
       "      <td>Transportation is a large necessity in most co...</td>\n",
       "      <td>0</td>\n",
       "    </tr>\n",
       "    <tr>\n",
       "      <th>2</th>\n",
       "      <td>\"America's love affair with it's vehicles seem...</td>\n",
       "      <td>0</td>\n",
       "    </tr>\n",
       "    <tr>\n",
       "      <th>3</th>\n",
       "      <td>How often do you ride in a car? Do you drive a...</td>\n",
       "      <td>0</td>\n",
       "    </tr>\n",
       "    <tr>\n",
       "      <th>4</th>\n",
       "      <td>Cars are a wonderful thing. They are perhaps o...</td>\n",
       "      <td>0</td>\n",
       "    </tr>\n",
       "    <tr>\n",
       "      <th>...</th>\n",
       "      <td>...</td>\n",
       "      <td>...</td>\n",
       "    </tr>\n",
       "    <tr>\n",
       "      <th>67684</th>\n",
       "      <td>Climate change is a really important issue tha...</td>\n",
       "      <td>1</td>\n",
       "    </tr>\n",
       "    <tr>\n",
       "      <th>67685</th>\n",
       "      <td>Introduction:\\n\\nDriverless cars, a technology...</td>\n",
       "      <td>1</td>\n",
       "    </tr>\n",
       "    <tr>\n",
       "      <th>67686</th>\n",
       "      <td>Social media has become an integral part of ou...</td>\n",
       "      <td>1</td>\n",
       "    </tr>\n",
       "    <tr>\n",
       "      <th>67687</th>\n",
       "      <td>Meat, it's something that many of us have grow...</td>\n",
       "      <td>1</td>\n",
       "    </tr>\n",
       "    <tr>\n",
       "      <th>67688</th>\n",
       "      <td>The legalization of marijuana has been a topic...</td>\n",
       "      <td>1</td>\n",
       "    </tr>\n",
       "  </tbody>\n",
       "</table>\n",
       "<p>67689 rows × 2 columns</p>\n",
       "</div>"
      ],
      "text/plain": [
       "                                                    text  generated\n",
       "0      Cars. Cars have been around since they became ...          0\n",
       "1      Transportation is a large necessity in most co...          0\n",
       "2      \"America's love affair with it's vehicles seem...          0\n",
       "3      How often do you ride in a car? Do you drive a...          0\n",
       "4      Cars are a wonderful thing. They are perhaps o...          0\n",
       "...                                                  ...        ...\n",
       "67684  Climate change is a really important issue tha...          1\n",
       "67685  Introduction:\\n\\nDriverless cars, a technology...          1\n",
       "67686  Social media has become an integral part of ou...          1\n",
       "67687  Meat, it's something that many of us have grow...          1\n",
       "67688  The legalization of marijuana has been a topic...          1\n",
       "\n",
       "[67689 rows x 2 columns]"
      ]
     },
     "execution_count": 37,
     "metadata": {},
     "output_type": "execute_result"
    }
   ],
   "source": [
    "Train_Data"
   ]
  },
  {
   "cell_type": "code",
   "execution_count": 38,
   "id": "1310d0ea",
   "metadata": {},
   "outputs": [],
   "source": [
    "d = pd.read_csv(\"LLM_generated_essay_PaLM.csv\")"
   ]
  },
  {
   "cell_type": "code",
   "execution_count": 39,
   "id": "64ed47d9",
   "metadata": {
    "collapsed": true,
    "jupyter": {
     "outputs_hidden": true
    }
   },
   "outputs": [
    {
     "data": {
      "text/html": [
       "<div>\n",
       "<style scoped>\n",
       "    .dataframe tbody tr th:only-of-type {\n",
       "        vertical-align: middle;\n",
       "    }\n",
       "\n",
       "    .dataframe tbody tr th {\n",
       "        vertical-align: top;\n",
       "    }\n",
       "\n",
       "    .dataframe thead th {\n",
       "        text-align: right;\n",
       "    }\n",
       "</style>\n",
       "<table border=\"1\" class=\"dataframe\">\n",
       "  <thead>\n",
       "    <tr style=\"text-align: right;\">\n",
       "      <th></th>\n",
       "      <th>id</th>\n",
       "      <th>prompt_id</th>\n",
       "      <th>text</th>\n",
       "      <th>generated</th>\n",
       "    </tr>\n",
       "  </thead>\n",
       "  <tbody>\n",
       "    <tr>\n",
       "      <th>0</th>\n",
       "      <td>0</td>\n",
       "      <td>0.0</td>\n",
       "      <td>## The Advantages of Limiting Car Usage\\n\\nIn ...</td>\n",
       "      <td>1.0</td>\n",
       "    </tr>\n",
       "    <tr>\n",
       "      <th>1</th>\n",
       "      <td>1</td>\n",
       "      <td>0.0</td>\n",
       "      <td>The United States is a car-dependent nation, w...</td>\n",
       "      <td>1.0</td>\n",
       "    </tr>\n",
       "    <tr>\n",
       "      <th>2</th>\n",
       "      <td>2</td>\n",
       "      <td>0.0</td>\n",
       "      <td>In recent years, there has been a growing move...</td>\n",
       "      <td>1.0</td>\n",
       "    </tr>\n",
       "    <tr>\n",
       "      <th>3</th>\n",
       "      <td>3</td>\n",
       "      <td>0.0</td>\n",
       "      <td>In recent years, there has been a growing move...</td>\n",
       "      <td>1.0</td>\n",
       "    </tr>\n",
       "    <tr>\n",
       "      <th>4</th>\n",
       "      <td>4</td>\n",
       "      <td>0.0</td>\n",
       "      <td>In the past few decades, the United States has...</td>\n",
       "      <td>1.0</td>\n",
       "    </tr>\n",
       "    <tr>\n",
       "      <th>...</th>\n",
       "      <td>...</td>\n",
       "      <td>...</td>\n",
       "      <td>...</td>\n",
       "      <td>...</td>\n",
       "    </tr>\n",
       "    <tr>\n",
       "      <th>1379</th>\n",
       "      <td>1379</td>\n",
       "      <td>1.0</td>\n",
       "      <td>Dear Senator,\\n\\nI am writing to you today to ...</td>\n",
       "      <td>1.0</td>\n",
       "    </tr>\n",
       "    <tr>\n",
       "      <th>1380</th>\n",
       "      <td>1380</td>\n",
       "      <td>1.0</td>\n",
       "      <td>Dear Senator,\\n\\nI am writing to you today to ...</td>\n",
       "      <td>1.0</td>\n",
       "    </tr>\n",
       "    <tr>\n",
       "      <th>1381</th>\n",
       "      <td>1381</td>\n",
       "      <td>1.0</td>\n",
       "      <td>Dear Senator,\\n\\nI am writing to you today to ...</td>\n",
       "      <td>1.0</td>\n",
       "    </tr>\n",
       "    <tr>\n",
       "      <th>1382</th>\n",
       "      <td>1382</td>\n",
       "      <td>1.0</td>\n",
       "      <td>Dear Senator,\\n\\nI am writing to you today to ...</td>\n",
       "      <td>1.0</td>\n",
       "    </tr>\n",
       "    <tr>\n",
       "      <th>1383</th>\n",
       "      <td>1383</td>\n",
       "      <td>1.0</td>\n",
       "      <td>Dear Senator,\\n\\nI am writing to you today to ...</td>\n",
       "      <td>1.0</td>\n",
       "    </tr>\n",
       "  </tbody>\n",
       "</table>\n",
       "<p>1384 rows × 4 columns</p>\n",
       "</div>"
      ],
      "text/plain": [
       "        id  prompt_id                                               text  \\\n",
       "0        0        0.0  ## The Advantages of Limiting Car Usage\\n\\nIn ...   \n",
       "1        1        0.0  The United States is a car-dependent nation, w...   \n",
       "2        2        0.0  In recent years, there has been a growing move...   \n",
       "3        3        0.0  In recent years, there has been a growing move...   \n",
       "4        4        0.0  In the past few decades, the United States has...   \n",
       "...    ...        ...                                                ...   \n",
       "1379  1379        1.0  Dear Senator,\\n\\nI am writing to you today to ...   \n",
       "1380  1380        1.0  Dear Senator,\\n\\nI am writing to you today to ...   \n",
       "1381  1381        1.0  Dear Senator,\\n\\nI am writing to you today to ...   \n",
       "1382  1382        1.0  Dear Senator,\\n\\nI am writing to you today to ...   \n",
       "1383  1383        1.0  Dear Senator,\\n\\nI am writing to you today to ...   \n",
       "\n",
       "      generated  \n",
       "0           1.0  \n",
       "1           1.0  \n",
       "2           1.0  \n",
       "3           1.0  \n",
       "4           1.0  \n",
       "...         ...  \n",
       "1379        1.0  \n",
       "1380        1.0  \n",
       "1381        1.0  \n",
       "1382        1.0  \n",
       "1383        1.0  \n",
       "\n",
       "[1384 rows x 4 columns]"
      ]
     },
     "execution_count": 39,
     "metadata": {},
     "output_type": "execute_result"
    }
   ],
   "source": [
    "d"
   ]
  },
  {
   "cell_type": "code",
   "execution_count": 40,
   "id": "0dea4065",
   "metadata": {},
   "outputs": [],
   "source": [
    "d['generated'] = d['generated'].astype(int)"
   ]
  },
  {
   "cell_type": "code",
   "execution_count": 41,
   "id": "d025f32b",
   "metadata": {},
   "outputs": [],
   "source": [
    "dd = d[['text','generated']]"
   ]
  },
  {
   "cell_type": "code",
   "execution_count": 42,
   "id": "85d91f8a",
   "metadata": {},
   "outputs": [],
   "source": [
    "Train_Data  =pd.concat([Train_Data,dd],axis=0,ignore_index=True)"
   ]
  },
  {
   "cell_type": "code",
   "execution_count": 43,
   "id": "cb06d584",
   "metadata": {},
   "outputs": [],
   "source": [
    "Train_Data.drop_duplicates(inplace=True,ignore_index=True)"
   ]
  },
  {
   "cell_type": "code",
   "execution_count": 44,
   "id": "425b740c",
   "metadata": {},
   "outputs": [
    {
     "data": {
      "text/html": [
       "<div>\n",
       "<style scoped>\n",
       "    .dataframe tbody tr th:only-of-type {\n",
       "        vertical-align: middle;\n",
       "    }\n",
       "\n",
       "    .dataframe tbody tr th {\n",
       "        vertical-align: top;\n",
       "    }\n",
       "\n",
       "    .dataframe thead th {\n",
       "        text-align: right;\n",
       "    }\n",
       "</style>\n",
       "<table border=\"1\" class=\"dataframe\">\n",
       "  <thead>\n",
       "    <tr style=\"text-align: right;\">\n",
       "      <th></th>\n",
       "      <th>text</th>\n",
       "      <th>generated</th>\n",
       "    </tr>\n",
       "  </thead>\n",
       "  <tbody>\n",
       "    <tr>\n",
       "      <th>0</th>\n",
       "      <td>Cars. Cars have been around since they became ...</td>\n",
       "      <td>0</td>\n",
       "    </tr>\n",
       "    <tr>\n",
       "      <th>1</th>\n",
       "      <td>Transportation is a large necessity in most co...</td>\n",
       "      <td>0</td>\n",
       "    </tr>\n",
       "    <tr>\n",
       "      <th>2</th>\n",
       "      <td>\"America's love affair with it's vehicles seem...</td>\n",
       "      <td>0</td>\n",
       "    </tr>\n",
       "    <tr>\n",
       "      <th>3</th>\n",
       "      <td>How often do you ride in a car? Do you drive a...</td>\n",
       "      <td>0</td>\n",
       "    </tr>\n",
       "    <tr>\n",
       "      <th>4</th>\n",
       "      <td>Cars are a wonderful thing. They are perhaps o...</td>\n",
       "      <td>0</td>\n",
       "    </tr>\n",
       "    <tr>\n",
       "      <th>...</th>\n",
       "      <td>...</td>\n",
       "      <td>...</td>\n",
       "    </tr>\n",
       "    <tr>\n",
       "      <th>66841</th>\n",
       "      <td>Dear Senator,\\n\\nI am writing to you today to ...</td>\n",
       "      <td>1</td>\n",
       "    </tr>\n",
       "    <tr>\n",
       "      <th>66842</th>\n",
       "      <td>Dear Senator,\\n\\nI am writing to you today to ...</td>\n",
       "      <td>1</td>\n",
       "    </tr>\n",
       "    <tr>\n",
       "      <th>66843</th>\n",
       "      <td>Dear Senator,\\n\\nI am writing to you today to ...</td>\n",
       "      <td>1</td>\n",
       "    </tr>\n",
       "    <tr>\n",
       "      <th>66844</th>\n",
       "      <td>Dear Senator,\\n\\nI am writing to you today to ...</td>\n",
       "      <td>1</td>\n",
       "    </tr>\n",
       "    <tr>\n",
       "      <th>66845</th>\n",
       "      <td>Dear Senator,\\n\\nI am writing to you today to ...</td>\n",
       "      <td>1</td>\n",
       "    </tr>\n",
       "  </tbody>\n",
       "</table>\n",
       "<p>66846 rows × 2 columns</p>\n",
       "</div>"
      ],
      "text/plain": [
       "                                                    text  generated\n",
       "0      Cars. Cars have been around since they became ...          0\n",
       "1      Transportation is a large necessity in most co...          0\n",
       "2      \"America's love affair with it's vehicles seem...          0\n",
       "3      How often do you ride in a car? Do you drive a...          0\n",
       "4      Cars are a wonderful thing. They are perhaps o...          0\n",
       "...                                                  ...        ...\n",
       "66841  Dear Senator,\\n\\nI am writing to you today to ...          1\n",
       "66842  Dear Senator,\\n\\nI am writing to you today to ...          1\n",
       "66843  Dear Senator,\\n\\nI am writing to you today to ...          1\n",
       "66844  Dear Senator,\\n\\nI am writing to you today to ...          1\n",
       "66845  Dear Senator,\\n\\nI am writing to you today to ...          1\n",
       "\n",
       "[66846 rows x 2 columns]"
      ]
     },
     "execution_count": 44,
     "metadata": {},
     "output_type": "execute_result"
    }
   ],
   "source": [
    "Train_Data"
   ]
  },
  {
   "cell_type": "code",
   "execution_count": 45,
   "id": "1b03dce2",
   "metadata": {},
   "outputs": [
    {
     "data": {
      "text/plain": [
       "generated\n",
       "0    41257\n",
       "1    25589\n",
       "Name: count, dtype: int64"
      ]
     },
     "execution_count": 45,
     "metadata": {},
     "output_type": "execute_result"
    }
   ],
   "source": [
    "Train_Data['generated'].value_counts()"
   ]
  },
  {
   "cell_type": "code",
   "execution_count": null,
   "id": "36889751-cc97-4f6a-aa89-2560a8dcca1b",
   "metadata": {},
   "outputs": [],
   "source": [
    "Tr"
   ]
  },
  {
   "cell_type": "code",
   "execution_count": 46,
   "id": "3d820a2d",
   "metadata": {},
   "outputs": [],
   "source": [
    "import numpy as np\n",
    "import seaborn as sns\n",
    "from sklearn.model_selection import train_test_split"
   ]
  },
  {
   "cell_type": "code",
   "execution_count": 47,
   "id": "04cd782d",
   "metadata": {},
   "outputs": [],
   "source": [
    "import matplotlib.pyplot as plt"
   ]
  },
  {
   "cell_type": "code",
   "execution_count": 48,
   "id": "69f17286",
   "metadata": {},
   "outputs": [
    {
     "data": {
      "text/plain": [
       "<Axes: ylabel='count'>"
      ]
     },
     "execution_count": 48,
     "metadata": {},
     "output_type": "execute_result"
    },
    {
     "data": {
      "image/png": "[encoded data removed]",
      "text/plain": [
       "<Figure size 640x480 with 1 Axes>"
      ]
     },
     "metadata": {},
     "output_type": "display_data"
    }
   ],
   "source": [
    "Train_Data.generated.value_counts().plot(kind='pie',autopct=\"%.1f%%\")"
   ]
  },
  {
   "cell_type": "code",
   "execution_count": 49,
   "id": "ef699fa2",
   "metadata": {},
   "outputs": [
    {
     "data": {
      "image/png": "[encoded data removed]",
      "text/plain": [
       "<Figure size 640x480 with 1 Axes>"
      ]
     },
     "metadata": {},
     "output_type": "display_data"
    }
   ],
   "source": [
    "plt.title(\"Target Column Distributions\")\n",
    "plt.show()"
   ]
  },
  {
   "cell_type": "code",
   "execution_count": 50,
   "id": "d14ec5b6",
   "metadata": {},
   "outputs": [
    {
     "data": {
      "text/plain": [
       "<function matplotlib.pyplot.show(close=None, block=None)>"
      ]
     },
     "execution_count": 50,
     "metadata": {},
     "output_type": "execute_result"
    },
    {
     "data": {
      "image/png": "[encoded data removed]",
      "text/plain": [
       "<Figure size 640x480 with 1 Axes>"
      ]
     },
     "metadata": {},
     "output_type": "display_data"
    }
   ],
   "source": [
    "sns.countplot(x=Train_Data['generated'])\n",
    "plt.show"
   ]
  },
  {
   "cell_type": "code",
   "execution_count": 51,
   "id": "1beda875",
   "metadata": {},
   "outputs": [],
   "source": [
    "Train_Data.to_csv(\"train.csv\")"
   ]
  },
  {
   "cell_type": "code",
   "execution_count": 26,
   "id": "85ccc817",
   "metadata": {},
   "outputs": [],
   "source": [
    "Train_Data = pd.read_csv(\"train.csv\")"
   ]
  },
  {
   "cell_type": "code",
   "execution_count": 28,
   "id": "c5c537a4-a036-49b3-902e-f87f619e71d5",
   "metadata": {},
   "outputs": [
    {
     "data": {
      "text/plain": [
       "'Cars. Cars have been around since they became famous in the 1900s, when Henry Ford created and built the first ModelT. Cars have played a major role in our every day lives since then. But now, people are starting to question if limiting car usage would be a good thing. To me, limiting the use of cars might be a good thing to do.\\n\\nIn like matter of this, article, \"In German Suburb, Life Goes On Without Cars,\" by Elizabeth Rosenthal states, how automobiles are the linchpin of suburbs, where middle class families from either Shanghai or Chicago tend to make their homes. Experts say how this is a huge impediment to current efforts to reduce greenhouse gas emissions from tailpipe. Passenger cars are responsible for 12 percent of greenhouse gas emissions in Europe...and up to 50 percent in some carintensive areas in the United States. Cars are the main reason for the greenhouse gas emissions because of a lot of people driving them around all the time getting where they need to go. Article, \"Paris bans driving due to smog,\" by Robert Duffer says, how Paris, after days of nearrecord pollution, enforced a partial driving ban to clear the air of the global city. It also says, how on Monday, motorist with evennumbered license plates were ordered to leave their cars at home or be fined a 22euro fine 31. The same order would be applied to oddnumbered plates the following day. Cars are the reason for polluting entire cities like Paris. This shows how bad cars can be because, of all the pollution that they can cause to an entire city.\\n\\nLikewise, in the article, \"Carfree day is spinning into a big hit in Bogota,\" by Andrew Selsky says, how programs that\\'s set to spread to other countries, millions of Columbians hiked, biked, skated, or took the bus to work during a carfree day, leaving streets of this capital city eerily devoid of traffic jams. It was the third straight year cars have been banned with only buses and taxis permitted for the Day Without Cars in the capital city of 7 million. People like the idea of having carfree days because, it allows them to lesson the pollution that cars put out of their exhaust from people driving all the time. The article also tells how parks and sports centers have bustled throughout the city uneven, pitted sidewalks have been replaced by broad, smooth sidewalks rushhour restrictions have dramatically cut traffic and new restaurants and upscale shopping districts have cropped up. Having no cars has been good for the country of Columbia because, it has aloud them to repair things that have needed repairs for a long time, traffic jams have gone down, and restaurants and shopping districts have popped up, all due to the fact of having less cars around.\\n\\nIn conclusion, the use of less cars and having carfree days, have had a big impact on the environment of cities because, it is cutting down the air pollution that the cars have majorly polluted, it has aloud countries like Columbia to repair sidewalks, and cut down traffic jams. Limiting the use of cars would be a good thing for America. So we should limit the use of cars by maybe riding a bike, or maybe walking somewhere that isn\\'t that far from you and doesn\\'t need the use of a car to get you there. To me, limiting the use of cars might be a good thing to do.'"
      ]
     },
     "execution_count": 28,
     "metadata": {},
     "output_type": "execute_result"
    }
   ],
   "source": [
    "Train_Data['text'][0]"
   ]
  },
  {
   "cell_type": "code",
   "execution_count": null,
   "id": "91289119",
   "metadata": {},
   "outputs": [],
   "source": [
    "#0.9 % data kept for testing and rest for training"
   ]
  },
  {
   "cell_type": "code",
   "execution_count": 6,
   "id": "166831ed",
   "metadata": {},
   "outputs": [],
   "source": [
    "x_train,x_test,y_train,y_test=train_test_split(Train_Data.text,Train_Data.generated,\n",
    "                     test_size=0.009,shuffle=True)"
   ]
  },
  {
   "cell_type": "code",
   "execution_count": 7,
   "id": "389249bd",
   "metadata": {},
   "outputs": [
    {
     "name": "stdout",
     "output_type": "stream",
     "text": [
      "(66244,)\n",
      "(602,)\n",
      "(66244,)\n",
      "(602,)\n"
     ]
    }
   ],
   "source": [
    "print(x_train.shape)\n",
    "print(x_test.shape)\n",
    "print(y_train.shape)\n",
    "print(y_test.shape)"
   ]
  },
  {
   "cell_type": "code",
   "execution_count": 57,
   "id": "c2ca37a2",
   "metadata": {
    "collapsed": true,
    "jupyter": {
     "outputs_hidden": true
    }
   },
   "outputs": [
    {
     "data": {
      "text/plain": [
       "45223    My step sister, Generic_Name, use to do online...\n",
       "21584    Dear Principal,\\n\\nI think it's a good idea to...\n",
       "30123    Summer is a time of fun under the sun, but whe...\n",
       "6190     Venus is one of the planets that have the same...\n",
       "25725    Determination and effort are two essential com...\n",
       "                               ...                        \n",
       "16914     If students are aiming to graduate in three y...\n",
       "51587    I believe most of the students prefer to work ...\n",
       "43829    Some kids might be fat and need to get out and...\n",
       "38931    The school day is already long, but what if it...\n",
       "57791    \\nThroughout American history, the push for ac...\n",
       "Name: text, Length: 66244, dtype: object"
      ]
     },
     "execution_count": 57,
     "metadata": {},
     "output_type": "execute_result"
    }
   ],
   "source": [
    "x_train"
   ]
  },
  {
   "cell_type": "code",
   "execution_count": 58,
   "id": "ca1ca4a1",
   "metadata": {
    "collapsed": true,
    "jupyter": {
     "outputs_hidden": true
    }
   },
   "outputs": [
    {
     "data": {
      "text/plain": [
       "45223    0\n",
       "21584    1\n",
       "30123    0\n",
       "6190     0\n",
       "25725    1\n",
       "        ..\n",
       "16914    1\n",
       "51587    0\n",
       "43829    0\n",
       "38931    1\n",
       "57791    1\n",
       "Name: generated, Length: 66244, dtype: int64"
      ]
     },
     "execution_count": 58,
     "metadata": {},
     "output_type": "execute_result"
    }
   ],
   "source": [
    "y_train"
   ]
  },
  {
   "cell_type": "code",
   "execution_count": 8,
   "id": "0481bb02",
   "metadata": {},
   "outputs": [],
   "source": [
    "# Directly download the model and preprocessor from TensorFlow Hub\n",
    "preprocess_path = \"https://tfhub.dev/tensorflow/bert_en_uncased_preprocess/3\"\n",
    "model_path = \"https://tfhub.dev/tensorflow/bert_en_uncased_L-12_H-768_A-12/3\""
   ]
  },
  {
   "cell_type": "code",
   "execution_count": 9,
   "id": "86fb6eb4",
   "metadata": {},
   "outputs": [],
   "source": [
    "text_input = tf.keras.layers.Input(shape=(), dtype=tf.string)"
   ]
  },
  {
   "cell_type": "code",
   "execution_count": 10,
   "id": "c9f1872a",
   "metadata": {},
   "outputs": [],
   "source": [
    "preprocessor = hub.KerasLayer(preprocess_path)"
   ]
  },
  {
   "cell_type": "code",
   "execution_count": 11,
   "id": "62ad3d61",
   "metadata": {},
   "outputs": [],
   "source": [
    "encoder_inputs  = preprocessor(text_input) # this is basically the preprocessed text"
   ]
  },
  {
   "cell_type": "code",
   "execution_count": 12,
   "id": "5d90755c-383a-4d79-979e-dfe371879aa4",
   "metadata": {},
   "outputs": [],
   "source": [
    "encoder = hub.KerasLayer(model_path,trainable=True)"
   ]
  },
  {
   "cell_type": "code",
   "execution_count": 13,
   "id": "84d3bb1f-f6a5-424f-bf56-cca51bc61542",
   "metadata": {},
   "outputs": [],
   "source": [
    "outputs = encoder(encoder_inputs)"
   ]
  },
  {
   "cell_type": "code",
   "execution_count": 14,
   "id": "3d3d71eb-65a0-4922-9aaa-9ed83261b700",
   "metadata": {},
   "outputs": [],
   "source": [
    "pooled_output = outputs['pooled_output'] # [batch_size, 512]."
   ]
  },
  {
   "cell_type": "code",
   "execution_count": 15,
   "id": "e6ed13b3-49ee-436b-9493-e72817d52b96",
   "metadata": {},
   "outputs": [],
   "source": [
    "sequence_output = outputs[\"sequence_output\"] # [batch_size, seq_length, 512]."
   ]
  },
  {
   "cell_type": "code",
   "execution_count": 16,
   "id": "c22c158f-0e0c-49dd-870a-5dfcbe4aafb2",
   "metadata": {},
   "outputs": [],
   "source": [
    "dropout = tf.keras.layers.Dropout(0.51 , name=\"dropout1\")(pooled_output)"
   ]
  },
  {
   "cell_type": "code",
   "execution_count": 17,
   "id": "e7f9fd0b-b70f-4383-91a8-a68eecf3a7f2",
   "metadata": {},
   "outputs": [],
   "source": [
    "dense_2 = tf.keras.layers.Dense(64 , activation='relu')(dropout)\n",
    "dropout = tf.keras.layers.Dropout(0.3 , name=\"dropout2\")(dense_2)\n",
    "\n",
    "dense_out = tf.keras.layers.Dense(1 , activation='sigmoid', name='output')(dropout)"
   ]
  },
  {
   "cell_type": "code",
   "execution_count": 18,
   "id": "b8c6bffc-3ca1-48a7-8553-f2ddbac5aa76",
   "metadata": {},
   "outputs": [],
   "source": [
    "model = tf.keras.Model(inputs=text_input, outputs=dense_out)"
   ]
  },
  {
   "cell_type": "code",
   "execution_count": 19,
   "id": "f7ff333f-6b6c-4a24-ae81-0c909bf8f9a3",
   "metadata": {},
   "outputs": [
    {
     "name": "stdout",
     "output_type": "stream",
     "text": [
      "Model: \"model\"\n",
      "__________________________________________________________________________________________________\n",
      " Layer (type)                   Output Shape         Param #     Connected to                     \n",
      "==================================================================================================\n",
      " input_1 (InputLayer)           [(None,)]            0           []                               \n",
      "                                                                                                  \n",
      " keras_layer (KerasLayer)       {'input_mask': (Non  0           ['input_1[0][0]']                \n",
      "                                e, 128),                                                          \n",
      "                                 'input_word_ids':                                                \n",
      "                                (None, 128),                                                      \n",
      "                                 'input_type_ids':                                                \n",
      "                                (None, 128)}                                                      \n",
      "                                                                                                  \n",
      " keras_layer_1 (KerasLayer)     {'encoder_outputs':  109482241   ['keras_layer[0][0]',            \n",
      "                                 [(None, 128, 768),               'keras_layer[0][1]',            \n",
      "                                 (None, 128, 768),                'keras_layer[0][2]']            \n",
      "                                 (None, 128, 768),                                                \n",
      "                                 (None, 128, 768),                                                \n",
      "                                 (None, 128, 768),                                                \n",
      "                                 (None, 128, 768),                                                \n",
      "                                 (None, 128, 768),                                                \n",
      "                                 (None, 128, 768),                                                \n",
      "                                 (None, 128, 768),                                                \n",
      "                                 (None, 128, 768),                                                \n",
      "                                 (None, 128, 768),                                                \n",
      "                                 (None, 128, 768)],                                               \n",
      "                                 'pooled_output': (                                               \n",
      "                                None, 768),                                                       \n",
      "                                 'default': (None,                                                \n",
      "                                768),                                                             \n",
      "                                 'sequence_output':                                               \n",
      "                                 (None, 128, 768)}                                                \n",
      "                                                                                                  \n",
      " dropout1 (Dropout)             (None, 768)          0           ['keras_layer_1[0][13]']         \n",
      "                                                                                                  \n",
      " dense (Dense)                  (None, 64)           49216       ['dropout1[0][0]']               \n",
      "                                                                                                  \n",
      " dropout2 (Dropout)             (None, 64)           0           ['dense[0][0]']                  \n",
      "                                                                                                  \n",
      " output (Dense)                 (None, 1)            65          ['dropout2[0][0]']               \n",
      "                                                                                                  \n",
      "==================================================================================================\n",
      "Total params: 109,531,522\n",
      "Trainable params: 109,531,521\n",
      "Non-trainable params: 1\n",
      "__________________________________________________________________________________________________\n"
     ]
    }
   ],
   "source": [
    "model.summary()"
   ]
  },
  {
   "cell_type": "code",
   "execution_count": 20,
   "id": "fd669e64-d519-4cda-9ff7-1ac3f637af5a",
   "metadata": {},
   "outputs": [],
   "source": [
    "model.compile(optimizer=tf.keras.optimizers.Adam(learning_rate=1e-6),\n",
    "              loss='binary_crossentropy',\n",
    "              metrics=[\"acc\"])"
   ]
  },
  {
   "cell_type": "code",
   "execution_count": 21,
   "id": "3b4a1331-71e4-4b4d-9398-fdafeed26792",
   "metadata": {},
   "outputs": [],
   "source": [
    "checkpoint_filepath = 'checkpoint.hdf5'\n",
    "metric = 'val_accuracy'"
   ]
  },
  {
   "cell_type": "code",
   "execution_count": 22,
   "id": "89d486be-60b5-4f99-8ad8-d0938db4eaad",
   "metadata": {},
   "outputs": [],
   "source": [
    "callback_list = tf.keras.callbacks.ModelCheckpoint(filepath=checkpoint_filepath, monitor=metric,\n",
    "                    verbose=2, save_best_only=True, mode='max')"
   ]
  },
  {
   "cell_type": "code",
   "execution_count": 23,
   "id": "719647ea-1cda-46ac-85f5-6feff9c68d9e",
   "metadata": {},
   "outputs": [
    {
     "name": "stdout",
     "output_type": "stream",
     "text": [
      "WARNING:tensorflow:Can save best model only with val_accuracy available, skipping.      \n"
     ]
    },
    {
     "name": "stderr",
     "output_type": "stream",
     "text": [
      "WARNING:tensorflow:Can save best model only with val_accuracy available, skipping.\n"
     ]
    },
    {
     "name": "stdout",
     "output_type": "stream",
     "text": [
      "8281/8281 [==============================] - 73118s 9s/step - loss: 0.1131 - acc: 0.9594 - val_loss: 0.1255 - val_acc: 0.9618\n",
      "2071/2071 [==============================] - 21537s 10s/step - loss: 0.1313 - acc: 0.9566\n"
     ]
    }
   ],
   "source": [
    "history = model.fit(x_train, y_train , batch_size=8, callbacks=[callback_list],epochs=1 , validation_data=(x_test, y_test))\n",
    "loss , acc = model.evaluate(x_train, y_train)"
   ]
  },
  {
   "cell_type": "code",
   "execution_count": null,
   "id": "f2209d4a-f879-46d6-a7a0-736d58ef2c84",
   "metadata": {},
   "outputs": [],
   "source": [
    "print(\"Accuracy on Train data:\",acc)\n",
    "loss , acc = model.evaluate(x_test, y_test)\n",
    "print(\"Accuracy on Test data:\",acc)"
   ]
  },
  {
   "cell_type": "code",
   "execution_count": 24,
   "id": "cf10c372-adc2-44ba-a215-70f4ad62c690",
   "metadata": {},
   "outputs": [
    {
     "name": "stdout",
     "output_type": "stream",
     "text": [
      "Model: \"model\"\n",
      "__________________________________________________________________________________________________\n",
      " Layer (type)                   Output Shape         Param #     Connected to                     \n",
      "==================================================================================================\n",
      " input_1 (InputLayer)           [(None,)]            0           []                               \n",
      "                                                                                                  \n",
      " keras_layer (KerasLayer)       {'input_mask': (Non  0           ['input_1[0][0]']                \n",
      "                                e, 128),                                                          \n",
      "                                 'input_word_ids':                                                \n",
      "                                (None, 128),                                                      \n",
      "                                 'input_type_ids':                                                \n",
      "                                (None, 128)}                                                      \n",
      "                                                                                                  \n",
      " keras_layer_1 (KerasLayer)     {'encoder_outputs':  109482241   ['keras_layer[0][0]',            \n",
      "                                 [(None, 128, 768),               'keras_layer[0][1]',            \n",
      "                                 (None, 128, 768),                'keras_layer[0][2]']            \n",
      "                                 (None, 128, 768),                                                \n",
      "                                 (None, 128, 768),                                                \n",
      "                                 (None, 128, 768),                                                \n",
      "                                 (None, 128, 768),                                                \n",
      "                                 (None, 128, 768),                                                \n",
      "                                 (None, 128, 768),                                                \n",
      "                                 (None, 128, 768),                                                \n",
      "                                 (None, 128, 768),                                                \n",
      "                                 (None, 128, 768),                                                \n",
      "                                 (None, 128, 768)],                                               \n",
      "                                 'pooled_output': (                                               \n",
      "                                None, 768),                                                       \n",
      "                                 'default': (None,                                                \n",
      "                                768),                                                             \n",
      "                                 'sequence_output':                                               \n",
      "                                 (None, 128, 768)}                                                \n",
      "                                                                                                  \n",
      " dropout1 (Dropout)             (None, 768)          0           ['keras_layer_1[0][13]']         \n",
      "                                                                                                  \n",
      " dense (Dense)                  (None, 64)           49216       ['dropout1[0][0]']               \n",
      "                                                                                                  \n",
      " dropout2 (Dropout)             (None, 64)           0           ['dense[0][0]']                  \n",
      "                                                                                                  \n",
      " output (Dense)                 (None, 1)            65          ['dropout2[0][0]']               \n",
      "                                                                                                  \n",
      "==================================================================================================\n",
      "Total params: 109,531,522\n",
      "Trainable params: 109,531,521\n",
      "Non-trainable params: 1\n",
      "__________________________________________________________________________________________________\n"
     ]
    }
   ],
   "source": [
    "model.summary()\n",
    "model.save(\"model-bert.h5\")"
   ]
  },
  {
   "cell_type": "code",
   "execution_count": null,
   "id": "2509e568-3716-46b5-9d5d-59feda8c3d15",
   "metadata": {},
   "outputs": [],
   "source": [
    "from sklearn.metrics import confusion_matrix"
   ]
  },
  {
   "cell_type": "code",
   "execution_count": 29,
   "id": "2d9a46bd-8fe2-4226-ae42-a3ad8d7c8dde",
   "metadata": {},
   "outputs": [
    {
     "name": "stdout",
     "output_type": "stream",
     "text": [
      "19/19 [==============================] - 265s 14s/step\n"
     ]
    }
   ],
   "source": [
    "predictions = model.predict(x_test)"
   ]
  },
  {
   "cell_type": "code",
   "execution_count": null,
   "id": "d2d0b470-5c23-4ecd-809b-319c6e911999",
   "metadata": {},
   "outputs": [],
   "source": []
  }
 ],
 "metadata": {
  "kernelspec": {
   "display_name": "Python 3 (ipykernel)",
   "language": "python",
   "name": "python3"
  },
  "language_info": {
   "codemirror_mode": {
    "name": "ipython",
    "version": 3
   },
   "file_extension": ".py",
   "mimetype": "text/x-python",
   "name": "python",
   "nbconvert_exporter": "python",
   "pygments_lexer": "ipython3",
   "version": "3.10.11"
  }
 },
 "nbformat": 4,
 "nbformat_minor": 5
}
